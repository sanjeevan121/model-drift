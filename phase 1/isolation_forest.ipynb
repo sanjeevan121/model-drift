{
 "cells": [
  {
   "cell_type": "markdown",
   "metadata": {},
   "source": [
    "# Isolation Forest outlier detection \n",
    "\n",
    "## Method\n",
    "\n",
    "[Isolation forests](https://cs.nju.edu.cn/zhouzh/zhouzh.files/publication/icdm08b.pdf) (IF) are tree based models specifically used for outlier detection. The IF isolates observations by randomly selecting a feature and then randomly selecting a split value between the maximum and minimum values of the selected feature. The number of splittings required to isolate a sample is equivalent to the path length from the root node to the terminating node. This path length, averaged over a forest of random trees, is a measure of normality and is used to define an anomaly score. Outliers can typically be isolated quicker, leading to shorter paths.\n",
    "\n",
    "## Dataset\n",
    "\n",
    "The outlier detector needs to detect computer network intrusions using TCP dump data for a local-area network (LAN) simulating a typical U.S. Air Force LAN. A connection is a sequence of TCP packets starting and ending at some well defined times, between which data flows to and from a source IP address to a target IP address under some well defined protocol. Each connection is labeled as either normal, or as an attack.\n",
    "\n",
    "There are 4 types of attacks in the dataset:\n",
    "\n",
    "- DOS: denial-of-service, e.g. syn flood;\n",
    "- R2L: unauthorized access from a remote machine, e.g. guessing password;\n",
    "- U2R: unauthorized access to local superuser (root) privileges;\n",
    "- probing: surveillance and other probing, e.g., port scanning.\n",
    "\n",
    "The dataset contains about 5 million connection records.\n",
    "\n",
    "There are 3 types of features:\n",
    "\n",
    "- basic features of individual connections, e.g. duration of connection\n",
    "- content features within a connection, e.g. number of failed log in attempts\n",
    "- traffic features within a 2 second window, e.g. number of connections to the same host as the current connection"
   ]
  },
  {
   "cell_type": "markdown",
   "metadata": {},
   "source": [
    "This notebook requires the `seaborn` package for visualization which can be installed via `pip`:"
   ]
  },
  {
   "cell_type": "code",
   "execution_count": 1,
   "metadata": {},
   "outputs": [
    {
     "name": "stdout",
     "output_type": "stream",
     "text": [
      "Requirement already satisfied: seaborn in c:\\users\\sanje\\miniconda3\\envs\\drift\\lib\\site-packages (0.11.2)\n",
      "Requirement already satisfied: matplotlib>=2.2 in c:\\users\\sanje\\miniconda3\\envs\\drift\\lib\\site-packages (from seaborn) (3.5.1)\n",
      "Requirement already satisfied: pandas>=0.23 in c:\\users\\sanje\\miniconda3\\envs\\drift\\lib\\site-packages (from seaborn) (1.3.5)\n",
      "Requirement already satisfied: scipy>=1.0 in c:\\users\\sanje\\miniconda3\\envs\\drift\\lib\\site-packages (from seaborn) (1.7.3)\n",
      "Requirement already satisfied: numpy>=1.15 in c:\\users\\sanje\\miniconda3\\envs\\drift\\lib\\site-packages (from seaborn) (1.21.5)\n",
      "Requirement already satisfied: packaging>=20.0 in c:\\users\\sanje\\miniconda3\\envs\\drift\\lib\\site-packages (from matplotlib>=2.2->seaborn) (21.3)\n",
      "Requirement already satisfied: kiwisolver>=1.0.1 in c:\\users\\sanje\\miniconda3\\envs\\drift\\lib\\site-packages (from matplotlib>=2.2->seaborn) (1.3.2)\n",
      "Requirement already satisfied: python-dateutil>=2.7 in c:\\users\\sanje\\miniconda3\\envs\\drift\\lib\\site-packages (from matplotlib>=2.2->seaborn) (2.8.2)\n",
      "Requirement already satisfied: fonttools>=4.22.0 in c:\\users\\sanje\\miniconda3\\envs\\drift\\lib\\site-packages (from matplotlib>=2.2->seaborn) (4.29.0)\n",
      "Requirement already satisfied: pyparsing>=2.2.1 in c:\\users\\sanje\\miniconda3\\envs\\drift\\lib\\site-packages (from matplotlib>=2.2->seaborn) (3.0.7)\n",
      "Requirement already satisfied: cycler>=0.10 in c:\\users\\sanje\\miniconda3\\envs\\drift\\lib\\site-packages (from matplotlib>=2.2->seaborn) (0.11.0)\n",
      "Requirement already satisfied: pillow>=6.2.0 in c:\\users\\sanje\\miniconda3\\envs\\drift\\lib\\site-packages (from matplotlib>=2.2->seaborn) (8.4.0)\n",
      "Requirement already satisfied: pytz>=2017.3 in c:\\users\\sanje\\miniconda3\\envs\\drift\\lib\\site-packages (from pandas>=0.23->seaborn) (2021.3)\n",
      "Requirement already satisfied: six>=1.5 in c:\\users\\sanje\\miniconda3\\envs\\drift\\lib\\site-packages (from python-dateutil>=2.7->matplotlib>=2.2->seaborn) (1.16.0)\n"
     ]
    },
    {
     "name": "stderr",
     "output_type": "stream",
     "text": [
      "WARNING: You are using pip version 22.0.2; however, version 22.0.3 is available.\n",
      "You should consider upgrading via the 'C:\\Users\\sanje\\miniconda3\\envs\\drift\\python.exe -m pip install --upgrade pip' command.\n"
     ]
    }
   ],
   "source": [
    "!pip install seaborn"
   ]
  },
  {
   "cell_type": "code",
   "execution_count": 2,
   "metadata": {},
   "outputs": [],
   "source": [
    "import matplotlib\n",
    "%matplotlib inline\n",
    "import matplotlib.pyplot as plt\n",
    "import numpy as np\n",
    "import os\n",
    "import pandas as pd\n",
    "import seaborn as sns\n",
    "from sklearn.metrics import confusion_matrix, f1_score\n",
    "from alibi_detect.od import IForest\n",
    "from alibi_detect.datasets import fetch_kdd\n",
    "from alibi_detect.utils.data import create_outlier_batch\n",
    "from alibi_detect.utils.fetching import fetch_detector\n",
    "from alibi_detect.utils.saving import save_detector, load_detector\n",
    "from alibi_detect.utils.visualize import plot_instance_score, plot_roc"
   ]
  },
  {
   "cell_type": "markdown",
   "metadata": {},
   "source": [
    "## Load dataset\n",
    "\n",
    "We only keep a number of continuous (18 out of 41) features."
   ]
  },
  {
   "cell_type": "code",
   "execution_count": 6,
   "metadata": {},
   "outputs": [
    {
     "name": "stdout",
     "output_type": "stream",
     "text": [
      "(494021, 18) (494021,)\n"
     ]
    }
   ],
   "source": [
    "kddcup = fetch_kdd(percent10=True)  # only load 10% of the dataset\n",
    "print(kddcup.data.shape, kddcup.target.shape)"
   ]
  },
  {
   "cell_type": "markdown",
   "metadata": {},
   "source": [
    "Assume that a model is trained on *normal* instances of the dataset (not outliers) and standardization is applied:"
   ]
  },
  {
   "cell_type": "code",
   "execution_count": 7,
   "metadata": {},
   "outputs": [
    {
     "name": "stdout",
     "output_type": "stream",
     "text": [
      "(400000, 18) (400000,)\n",
      "0.0% outliers\n"
     ]
    }
   ],
   "source": [
    "np.random.seed(0)\n",
    "normal_batch = create_outlier_batch(kddcup.data, kddcup.target, n_samples=400000, perc_outlier=0)\n",
    "X_train, y_train = normal_batch.data.astype('float'), normal_batch.target\n",
    "print(X_train.shape, y_train.shape)\n",
    "print('{}% outliers'.format(100 * y_train.mean()))"
   ]
  },
  {
   "cell_type": "code",
   "execution_count": 8,
   "metadata": {},
   "outputs": [],
   "source": [
    "mean, stdev = X_train.mean(axis=0), X_train.std(axis=0)"
   ]
  },
  {
   "cell_type": "markdown",
   "metadata": {},
   "source": [
    "Apply standardization:"
   ]
  },
  {
   "cell_type": "code",
   "execution_count": 9,
   "metadata": {},
   "outputs": [],
   "source": [
    "X_train = (X_train - mean) / stdev"
   ]
  },
  {
   "cell_type": "markdown",
   "metadata": {},
   "source": [
    "## Load or define outlier detector\n",
    "\n",
    "The pretrained outlier and adversarial detectors used in the example notebooks can be found [here](https://console.cloud.google.com/storage/browser/seldon-models/alibi-detect). You can use the built-in ```fetch_detector``` function which saves the pre-trained models in a local directory ```filepath``` and loads the detector. Alternatively, you can train a detector from scratch:"
   ]
  },
  {
   "cell_type": "code",
   "execution_count": 10,
   "metadata": {},
   "outputs": [],
   "source": [
    "load_outlier_detector = True"
   ]
  },
  {
   "cell_type": "code",
   "execution_count": 11,
   "metadata": {},
   "outputs": [
    {
     "name": "stderr",
     "output_type": "stream",
     "text": [
      "No threshold level set. Need to infer threshold using `infer_threshold`.\n"
     ]
    }
   ],
   "source": [
    "filepath = 'my_path'  # change to directory where model is downloaded\n",
    "detector_type = 'outlier'\n",
    "dataset = 'kddcup'\n",
    "detector_name = 'IForest'\n",
    "filepath = os.path.join(filepath, detector_name)\n",
    "if load_outlier_detector:  # load pretrained outlier detector\n",
    "    od = fetch_detector(filepath, detector_type, dataset, detector_name)\n",
    "else:  # define model, initialize, train and save outlier detector\n",
    "    \n",
    "    # initialize outlier detector\n",
    "    od = IForest(threshold=None,  # threshold for outlier score\n",
    "                 n_estimators=100)\n",
    "    \n",
    "    # train\n",
    "    od.fit(X_train)\n",
    "    \n",
    "    # save the trained outlier detector\n",
    "    save_detector(od, filepath)"
   ]
  },
  {
   "cell_type": "markdown",
   "metadata": {},
   "source": [
    "The warning tells us we still need to set the outlier threshold. This can be done with the `infer_threshold` method. We need to pass a batch of instances and specify what percentage of those we consider to be normal via `threshold_perc`. Let's assume we have some data which we know contains around 5% outliers. The percentage of outliers can be set with `perc_outlier` in the `create_outlier_batch` function."
   ]
  },
  {
   "cell_type": "code",
   "execution_count": 12,
   "metadata": {},
   "outputs": [
    {
     "name": "stdout",
     "output_type": "stream",
     "text": [
      "5.0% outliers\n"
     ]
    }
   ],
   "source": [
    "np.random.seed(0)\n",
    "perc_outlier = 5\n",
    "threshold_batch = create_outlier_batch(kddcup.data, kddcup.target, n_samples=1000, perc_outlier=perc_outlier)\n",
    "X_threshold, y_threshold = threshold_batch.data.astype('float'), threshold_batch.target\n",
    "X_threshold = (X_threshold - mean) / stdev\n",
    "print('{}% outliers'.format(100 * y_threshold.mean()))"
   ]
  },
  {
   "cell_type": "code",
   "execution_count": 15,
   "metadata": {},
   "outputs": [
    {
     "name": "stdout",
     "output_type": "stream",
     "text": [
      "New threshold: 0.0797010793476482\n"
     ]
    }
   ],
   "source": [
    "od.infer_threshold(X_threshold, threshold_perc=100-perc_outlier)\n",
    "print('New threshold: {}'.format(od.threshold))"
   ]
  },
  {
   "cell_type": "markdown",
   "metadata": {},
   "source": [
    "Let's save the outlier detector with updated threshold:"
   ]
  },
  {
   "cell_type": "code",
   "execution_count": 16,
   "metadata": {},
   "outputs": [],
   "source": [
    "save_detector(od, filepath)"
   ]
  },
  {
   "cell_type": "markdown",
   "metadata": {},
   "source": [
    "## Detect outliers\n",
    "\n",
    "We now generate a batch of data with 10% outliers and detect the outliers in the batch. "
   ]
  },
  {
   "cell_type": "code",
   "execution_count": 17,
   "metadata": {},
   "outputs": [
    {
     "name": "stdout",
     "output_type": "stream",
     "text": [
      "(1000, 18) (1000,)\n",
      "10.0% outliers\n"
     ]
    }
   ],
   "source": [
    "np.random.seed(1)\n",
    "outlier_batch = create_outlier_batch(kddcup.data, kddcup.target, n_samples=1000, perc_outlier=10)\n",
    "X_outlier, y_outlier = outlier_batch.data.astype('float'), outlier_batch.target\n",
    "X_outlier = (X_outlier - mean) / stdev\n",
    "print(X_outlier.shape, y_outlier.shape)\n",
    "print('{}% outliers'.format(100 * y_outlier.mean()))"
   ]
  },
  {
   "cell_type": "markdown",
   "metadata": {},
   "source": [
    "Predict outliers:"
   ]
  },
  {
   "cell_type": "code",
   "execution_count": 18,
   "metadata": {},
   "outputs": [],
   "source": [
    "od_preds = od.predict(X_outlier, return_instance_score=True)"
   ]
  },
  {
   "cell_type": "markdown",
   "metadata": {},
   "source": [
    "## Display results\n",
    "\n",
    "F1 score and confusion matrix:"
   ]
  },
  {
   "cell_type": "code",
   "execution_count": 20,
   "metadata": {},
   "outputs": [
    {
     "data": {
      "text/plain": [
       "{'data': {'instance_score': array([-0.17561538, -0.17662947, -0.17092133,  0.00508316, -0.09072664,\n",
       "          0.23464572,  0.00508316, -0.17014279, -0.05977275, -0.12798402,\n",
       "         -0.16104817, -0.17094186, -0.16104817, -0.10809107, -0.08248941,\n",
       "         -0.16859765, -0.1695955 , -0.1635557 , -0.15400904, -0.17586036,\n",
       "         -0.04200815,  0.00508316,  0.07120776, -0.17163077, -0.16428807,\n",
       "         -0.1325594 , -0.13600235, -0.03609856, -0.17092133, -0.06178196,\n",
       "         -0.09990494, -0.17113991, -0.15923161, -0.16162953,  0.00508316,\n",
       "         -0.1563578 , -0.15093054, -0.00340517, -0.17163077, -0.16939671,\n",
       "         -0.07522636, -0.16608595, -0.17008318, -0.12606791, -0.16501063,\n",
       "         -0.17702516, -0.11696314, -0.03275598, -0.17662947, -0.16638469,\n",
       "         -0.09398386, -0.12796144, -0.16328297, -0.16108549,  0.04804278,\n",
       "         -0.15688108, -0.15062222,  0.17593448,  0.09277561, -0.09802614,\n",
       "         -0.03275598, -0.17113991, -0.15069657, -0.17666596, -0.16107266,\n",
       "         -0.04493184, -0.16993958, -0.0974144 , -0.16969822, -0.11754866,\n",
       "         -0.17662947, -0.16921586,  0.00508316, -0.16418749, -0.16494879,\n",
       "         -0.16340019, -0.15570624, -0.0779539 ,  0.00463519, -0.17163077,\n",
       "         -0.16276572, -0.02793002, -0.16854385, -0.07849976,  0.00508316,\n",
       "         -0.17176731,  0.00508316, -0.08084139, -0.15786029, -0.17702516,\n",
       "         -0.00639014, -0.16665355, -0.09775774, -0.15604976,  0.00508316,\n",
       "         -0.17113991,  0.08723697, -0.17074472, -0.16401751, -0.01769221,\n",
       "          0.00458297, -0.16939671, -0.14667533,  0.00508316, -0.09497657,\n",
       "         -0.17586036, -0.16901319, -0.06169136, -0.17092133, -0.0462363 ,\n",
       "         -0.15208585, -0.14956167,  0.00508316, -0.17143242, -0.17666596,\n",
       "          0.10470451,  0.00508316, -0.0881488 , -0.17395807, -0.16397899,\n",
       "         -0.01456648, -0.08410723, -0.16576296, -0.1695955 , -0.16638469,\n",
       "         -0.12064812, -0.10918927, -0.16412794,  0.07946747, -0.17051037,\n",
       "         -0.17294243, -0.1763353 , -0.1165771 , -0.17232375, -0.17194082,\n",
       "         -0.03192626, -0.11696495, -0.1569437 , -0.1260032 ,  0.03578529,\n",
       "          0.0944586 , -0.16073073, -0.17561538, -0.02173451,  0.00414402,\n",
       "         -0.17319282,  0.02468063, -0.11778926, -0.09953165, -0.00267077,\n",
       "         -0.1642592 ,  0.00508316, -0.16948643, -0.10691681, -0.16687984,\n",
       "         -0.16264024, -0.17037812, -0.16162953, -0.17666596, -0.17007173,\n",
       "         -0.1653949 , -0.05669005,  0.03144383, -0.1536715 , -0.071147  ,\n",
       "          0.04030546, -0.11657222, -0.17662947, -0.02887241, -0.16794404,\n",
       "         -0.16802855, -0.17122847, -0.15363649, -0.17662947, -0.03233628,\n",
       "         -0.17395807, -0.16898938,  0.1472805 , -0.16219715,  0.19121611,\n",
       "          0.00508316,  0.09946858, -0.1699998 , -0.08564035,  0.00508316,\n",
       "         -0.10574928,  0.1017969 , -0.1226767 , -0.1261983 ,  0.00508316,\n",
       "         -0.17586036, -0.17087807,  0.1001936 , -0.17488774, -0.07151649,\n",
       "         -0.08253782,  0.00508316, -0.05516528, -0.16898938, -0.17007173,\n",
       "         -0.09087558, -0.17662947, -0.1205952 , -0.1610982 , -0.14981683,\n",
       "          0.23418233, -0.09193033, -0.17666596, -0.16205961, -0.13628746,\n",
       "         -0.16491125, -0.17702516, -0.15716565,  0.05194638, -0.15277504,\n",
       "          0.10964425, -0.15272218, -0.02244194, -0.09945105, -0.17335058,\n",
       "         -0.1676176 , -0.15989298, -0.1763353 , -0.09033687, -0.16160279,\n",
       "         -0.16021717, -0.1690484 ,  0.05056017,  0.06129612, -0.17194082,\n",
       "         -0.17113991, -0.16703098, -0.15737364, -0.16815968, -0.15790856,\n",
       "         -0.12954699, -0.15213953, -0.13768905, -0.16877996, -0.17030739,\n",
       "          0.09169889, -0.15842119, -0.15573346, -0.04214826, -0.16327507,\n",
       "         -0.03378004, -0.10575402, -0.13639384,  0.09755304,  0.01063698,\n",
       "         -0.16476209, -0.14745246, -0.15174843, -0.1763353 , -0.08692001,\n",
       "         -0.16581226, -0.12666742,  0.09199728, -0.16404669, -0.07902756,\n",
       "         -0.10802887,  0.12465518,  0.00508316, -0.08099242, -0.09036254,\n",
       "          0.19121611,  0.23414884, -0.16848431, -0.16854939, -0.13657155,\n",
       "         -0.16943596, -0.0622491 , -0.17076976, -0.16993958, -0.15286668,\n",
       "         -0.12458985, -0.16844495, -0.13030537, -0.12972719, -0.17391454,\n",
       "         -0.16492187, -0.14925178, -0.08013341, -0.12861609,  0.00508316,\n",
       "         -0.1763353 , -0.06029891, -0.04248337, -0.17171225,  0.19121611,\n",
       "         -0.1502277 , -0.15629819, -0.14052566, -0.15427543, -0.10472883,\n",
       "         -0.15477443, -0.17079219, -0.11722897, -0.01119345,  0.00508316,\n",
       "          0.00508316, -0.06293721, -0.12279357, -0.16335386, -0.17586036,\n",
       "         -0.14468217,  0.05870748, -0.16898938,  0.00508316, -0.08680693,\n",
       "         -0.16742779,  0.09414512, -0.12746326, -0.06088164,  0.09310516,\n",
       "         -0.16372034,  0.01010122, -0.15611927,  0.23613839, -0.1695955 ,\n",
       "         -0.17044652, -0.17364117, -0.06126616, -0.03808359, -0.17358721,\n",
       "         -0.1716323 , -0.16478585, -0.11047204,  0.23414884, -0.17488774,\n",
       "         -0.16844495, -0.00228205, -0.16532127,  0.07796424, -0.16683156,\n",
       "         -0.04200815,  0.00508316, -0.16276572, -0.07304972, -0.14192502,\n",
       "         -0.17113991, -0.16800197, -0.16798468, -0.01315696, -0.03009686,\n",
       "          0.00508316, -0.16993958,  0.09724634, -0.14671525, -0.15471201,\n",
       "         -0.12302725, -0.1514893 , -0.15733719, -0.10958802, -0.17662947,\n",
       "         -0.07054059, -0.10337404, -0.14370702, -0.1651523 , -0.16352857,\n",
       "         -0.16939671, -0.17395807, -0.17098098,  0.0008153 , -0.17662947,\n",
       "         -0.02930791, -0.03859219,  0.23414884, -0.07741127, -0.04200815,\n",
       "          0.00508316, -0.16397899,  0.00508316,  0.07744263, -0.10944392,\n",
       "         -0.0959131 , -0.05160915, -0.15925416, -0.17060117, -0.17625699,\n",
       "         -0.14602394,  0.00508316, -0.16993958,  0.08304057,  0.04817219,\n",
       "         -0.12914497,  0.07452072, -0.15810283, -0.13097266, -0.16860768,\n",
       "         -0.17586036, -0.17059781, -0.07127493, -0.17092133, -0.17395807,\n",
       "         -0.10488663,  0.05774536,  0.03112   , -0.16281041, -0.15751734,\n",
       "         -0.14206271, -0.03063074,  0.00399032, -0.16401396, -0.17098098,\n",
       "         -0.15476776, -0.1763353 , -0.06985184, -0.17702516, -0.10770924,\n",
       "          0.0560991 ,  0.22853539, -0.16069928, -0.10331377, -0.16340019,\n",
       "          0.14271641, -0.17008318, -0.16958763, -0.16943596, -0.14310951,\n",
       "          0.08838099, -0.09669546, -0.16750425, -0.1678195 , -0.0958947 ,\n",
       "         -0.16442851,  0.23613839, -0.17586036, -0.01515029, -0.0886311 ,\n",
       "         -0.10721585, -0.16794404, -0.17122911, -0.16457208, -0.15422234,\n",
       "         -0.171904  , -0.15711196, -0.10217498, -0.02401627, -0.15204395,\n",
       "          0.12089478, -0.08508137, -0.04953757, -0.15566065, -0.04247914,\n",
       "         -0.15722659, -0.17395807, -0.16250743, -0.15950687, -0.1678195 ,\n",
       "         -0.1203381 , -0.08695105, -0.04816078, -0.16276572, -0.16458739,\n",
       "         -0.10985064, -0.15577547, -0.16704325, -0.16493621, -0.05448745,\n",
       "         -0.16341031, -0.16333998,  0.00508316,  0.00508316, -0.1229517 ,\n",
       "          0.00508316, -0.14516014, -0.13851932, -0.17666596, -0.16635776,\n",
       "         -0.09275553, -0.02674705, -0.17702516, -0.17702516, -0.09108242,\n",
       "         -0.04675426, -0.10114654, -0.17008318, -0.16993958, -0.14593299,\n",
       "         -0.07610248, -0.00806675, -0.17264794,  0.11047604,  0.0776074 ,\n",
       "         -0.1674919 , -0.1682438 , -0.17079219, -0.01896637, -0.15140439,\n",
       "         -0.17625699,  0.00508316, -0.01380421, -0.02723805, -0.08607271,\n",
       "         -0.15921361,  0.00508316,  0.00508316,  0.03524049, -0.00915297,\n",
       "         -0.16993958, -0.17163077, -0.17142954, -0.05806087, -0.06882075,\n",
       "          0.020976  , -0.17381425, -0.17662947, -0.04714188, -0.09183152,\n",
       "          0.00508316, -0.17586036, -0.03089992, -0.16770987, -0.0707357 ,\n",
       "         -0.17194082,  0.00508316,  0.1895762 , -0.17666596, -0.06819407,\n",
       "         -0.08999797, -0.16608309, -0.11514564, -0.17163077, -0.08581258,\n",
       "          0.19477368, -0.16445496, -0.10301682,  0.00508316, -0.03984285,\n",
       "          0.00508316,  0.11535689, -0.11848842, -0.16804945, -0.17586036,\n",
       "         -0.17702516,  0.11305699, -0.1309325 , -0.16608309, -0.16579457,\n",
       "          0.08101594, -0.1676176 , -0.08198861, -0.15579431, -0.16415148,\n",
       "         -0.01518902, -0.17295058, -0.14866009, -0.17702516, -0.03597657,\n",
       "         -0.15523307, -0.16363377, -0.0372299 ,  0.17730786,  0.03990211,\n",
       "          0.10445483,  0.13818294,  0.12352187, -0.17702516, -0.08773313,\n",
       "         -0.0790257 , -0.07542021, -0.147148  , -0.12849146,  0.00508316,\n",
       "          0.08605318,  0.23414884,  0.00508316, -0.17702516,  0.00508316,\n",
       "         -0.14013092, -0.16307111, -0.17586036, -0.10542394, -0.17662947,\n",
       "         -0.06487371, -0.03291758, -0.17662947, -0.04599338, -0.17586036,\n",
       "         -0.16993958, -0.17662947, -0.13586073, -0.15207178, -0.04248337,\n",
       "          0.00508316, -0.17702516, -0.03049777, -0.04248337, -0.07855237,\n",
       "         -0.17044652, -0.03233628, -0.08702185, -0.0259773 , -0.17163077,\n",
       "          0.04082625,  0.00508316, -0.09184101, -0.16530785,  0.22498698,\n",
       "         -0.12923271,  0.11713525, -0.10598914, -0.17092133, -0.16397899,\n",
       "          0.14907278,  0.00508316,  0.23905865, -0.15009734, -0.15610269,\n",
       "         -0.09646257,  0.11664287, -0.15192884, -0.16750425, -0.15677702,\n",
       "         -0.07180922, -0.05273566, -0.15879043, -0.17702516, -0.16742779,\n",
       "         -0.16346983, -0.17008318, -0.17079219,  0.23464572, -0.16898938,\n",
       "          0.00508316, -0.11876883,  0.13733133, -0.0813833 , -0.17395807,\n",
       "         -0.05936934, -0.17243928, -0.08992713, -0.04200815,  0.00508316,\n",
       "         -0.00446363, -0.03919921, -0.02960554, -0.16244606, -0.1534202 ,\n",
       "         -0.12988146, -0.09481985,  0.00508316, -0.16221838, -0.1497429 ,\n",
       "         -0.07364964, -0.1491465 , -0.09241066, -0.17666596, -0.10132485,\n",
       "         -0.17007173, -0.09920874, -0.17662947, -0.09466561,  0.0405485 ,\n",
       "         -0.10269998,  0.23414884, -0.08442575, -0.02234921, -0.09606766,\n",
       "          0.00508316, -0.17702516, -0.17119988, -0.17062437,  0.0156805 ,\n",
       "         -0.15071887, -0.16993958,  0.10255532, -0.12488779, -0.16587241,\n",
       "          0.04018832, -0.03257378, -0.03841921, -0.13800958, -0.16993958,\n",
       "         -0.04548835, -0.16032513, -0.1539185 , -0.16062186, -0.17662947,\n",
       "         -0.14780811, -0.15705494, -0.16901718, -0.00151766, -0.02304947,\n",
       "         -0.13900972, -0.11183457, -0.0541104 , -0.1723319 , -0.17232375,\n",
       "         -0.17007173, -0.16422538, -0.17662947, -0.14492281, -0.16798468,\n",
       "          0.22498698, -0.17395807,  0.10482064, -0.14343615, -0.1425712 ,\n",
       "         -0.1595228 ,  0.00508316, -0.10802887, -0.08228366, -0.15016844,\n",
       "         -0.15530139,  0.00508316, -0.1702645 , -0.13091443, -0.17625699,\n",
       "          0.23205748, -0.13915507,  0.09050238, -0.07010562,  0.00508316,\n",
       "         -0.08290599, -0.15879043,  0.11111932, -0.13318734, -0.17232375,\n",
       "         -0.07741378, -0.14998586, -0.16679639, -0.17586036, -0.03044061,\n",
       "         -0.15432019, -0.15796189, -0.08134976,  0.0517179 ,  0.0995962 ,\n",
       "          0.12516567, -0.16365661, -0.15618459, -0.16332069,  0.04446625,\n",
       "         -0.17022279, -0.17586036,  0.0550466 , -0.16628189, -0.16908433,\n",
       "         -0.17586036,  0.00508316, -0.02593748, -0.13644804,  0.00508316,\n",
       "         -0.17026001, -0.15452045, -0.1262914 , -0.17545356, -0.17062437,\n",
       "         -0.16804945, -0.1676176 , -0.12358916, -0.17702516, -0.15923161,\n",
       "          0.07140886, -0.17194082, -0.15877814, -0.15969121,  0.10930226,\n",
       "         -0.17232375, -0.15821471, -0.17586036, -0.12878963, -0.17051037,\n",
       "         -0.10584277, -0.11546384,  0.0692377 ,  0.00508316,  0.10184227,\n",
       "         -0.10806881, -0.15611927, -0.15618459, -0.16444088, -0.17485501,\n",
       "          0.09390048, -0.15805898, -0.01651153,  0.00508316,  0.00508316,\n",
       "         -0.15300131,  0.00508316, -0.16205961, -0.15842119, -0.06870037,\n",
       "          0.00508316, -0.1688219 , -0.1546508 , -0.17172207, -0.16739577,\n",
       "         -0.16539132,  0.24070251, -0.06011454,  0.00508316, -0.02668221,\n",
       "          0.14924911,  0.0102306 , -0.16740088,  0.00508316,  0.08088702,\n",
       "          0.2356405 , -0.1678347 , -0.16032634, -0.16993958, -0.03874171,\n",
       "         -0.14306399,  0.08432746, -0.16898938, -0.16598709, -0.13989149,\n",
       "         -0.15885464, -0.16164582, -0.09191218, -0.06992459,  0.23613839,\n",
       "          0.00508316, -0.16665355, -0.14150902,  0.11668964, -0.16436841,\n",
       "          0.00508316, -0.05529065, -0.14682095, -0.17294243, -0.13460696,\n",
       "         -0.16028843, -0.06823941, -0.15387958, -0.15677681, -0.1485401 ,\n",
       "          0.00508316, -0.16191009, -0.17382945, -0.09221389, -0.07749387,\n",
       "         -0.11445241, -0.16336551,  0.00508316, -0.11532422, -0.16039168,\n",
       "          0.04425349, -0.16595619,  0.05478856,  0.05662338,  0.06083539,\n",
       "         -0.06863854, -0.16308448,  0.02839414, -0.17702516, -0.13037644,\n",
       "         -0.0908215 , -0.14026744, -0.13545422,  0.23315608, -0.0900482 ,\n",
       "         -0.07403261, -0.15094013, -0.16441372, -0.12560979, -0.16104817,\n",
       "         -0.16648809, -0.1469785 ,  0.09254981, -0.04299737, -0.03109675,\n",
       "         -0.13602638,  0.00508316, -0.13820166, -0.15319911,  0.00508316,\n",
       "         -0.16854385,  0.22498698, -0.16356261, -0.1763353 , -0.1763353 ,\n",
       "         -0.16846676,  0.11211052, -0.12439309, -0.16901319, -0.15069657,\n",
       "         -0.07405393, -0.17113991, -0.11450736,  0.22758342, -0.1206768 ,\n",
       "         -0.17163077, -0.14848393, -0.17215656,  0.00508316,  0.00508316,\n",
       "         -0.15040869, -0.16742779, -0.16706865, -0.17702516,  0.0592287 ,\n",
       "         -0.16260422,  0.00508316, -0.12961386, -0.15827895, -0.16107357,\n",
       "         -0.15991086, -0.16466161, -0.16939671, -0.14992057, -0.02454868,\n",
       "         -0.14252908, -0.14933405,  0.04206116, -0.16962062,  0.10804352,\n",
       "         -0.07829469, -0.15257441, -0.17198008,  0.07113035,  0.23418233,\n",
       "          0.10953984, -0.16448849, -0.14412033,  0.23663662,  0.11636969,\n",
       "         -0.11611087, -0.1382788 ,  0.02541747, -0.11923985,  0.03943466,\n",
       "          0.07657847, -0.17662947,  0.00508316, -0.1407688 , -0.10322308,\n",
       "         -0.07885651, -0.16901319, -0.166279  , -0.08809579,  0.23414884,\n",
       "         -0.17586036, -0.17019952,  0.23255294, -0.16327507, -0.15694096,\n",
       "         -0.17335058, -0.12599834, -0.07978471, -0.01094182, -0.09497971,\n",
       "          0.23315608, -0.16993958, -0.09398386, -0.02040333, -0.1419046 ,\n",
       "         -0.15942624, -0.15684237, -0.16180616,  0.05558348, -0.15777619,\n",
       "         -0.1572536 , -0.08962543, -0.16670365, -0.02851423, -0.16185771,\n",
       "         -0.16485254, -0.1335555 , -0.16397899, -0.14163004, -0.17586036,\n",
       "         -0.08420499, -0.09753917, -0.16993958, -0.0797743 ,  0.00508316,\n",
       "         -0.17666596, -0.12610049,  0.05959725, -0.1220755 , -0.16813376,\n",
       "         -0.08546954, -0.16939671, -0.07633235, -0.15639928, -0.16345814,\n",
       "         -0.15536764, -0.08082697, -0.16245388, -0.0160057 , -0.17666596,\n",
       "         -0.14583544, -0.07217026, -0.03825551, -0.14228854, -0.16844495,\n",
       "         -0.17169087, -0.1363495 ,  0.04539219, -0.17662947, -0.14089085,\n",
       "         -0.08484858, -0.12203227, -0.17702516, -0.16157673,  0.04645673]),\n",
       "  'feature_score': None,\n",
       "  'is_outlier': array([0, 0, 0, 0, 0, 1, 0, 0, 0, 0, 0, 0, 0, 0, 0, 0, 0, 0, 0, 0, 0, 0,\n",
       "         0, 0, 0, 0, 0, 0, 0, 0, 0, 0, 0, 0, 0, 0, 0, 0, 0, 0, 0, 0, 0, 0,\n",
       "         0, 0, 0, 0, 0, 0, 0, 0, 0, 0, 0, 0, 0, 1, 1, 0, 0, 0, 0, 0, 0, 0,\n",
       "         0, 0, 0, 0, 0, 0, 0, 0, 0, 0, 0, 0, 0, 0, 0, 0, 0, 0, 0, 0, 0, 0,\n",
       "         0, 0, 0, 0, 0, 0, 0, 0, 1, 0, 0, 0, 0, 0, 0, 0, 0, 0, 0, 0, 0, 0,\n",
       "         0, 0, 0, 0, 0, 1, 0, 0, 0, 0, 0, 0, 0, 0, 0, 0, 0, 0, 0, 0, 0, 0,\n",
       "         0, 0, 0, 0, 0, 0, 0, 0, 1, 0, 0, 0, 0, 0, 0, 0, 0, 0, 0, 0, 0, 0,\n",
       "         0, 0, 0, 0, 0, 0, 0, 0, 0, 0, 0, 0, 0, 0, 0, 0, 0, 0, 0, 0, 0, 0,\n",
       "         0, 1, 0, 1, 0, 1, 0, 0, 0, 0, 1, 0, 0, 0, 0, 0, 1, 0, 0, 0, 0, 0,\n",
       "         0, 0, 0, 0, 0, 0, 0, 1, 0, 0, 0, 0, 0, 0, 0, 0, 0, 1, 0, 0, 0, 0,\n",
       "         0, 0, 0, 0, 0, 0, 0, 0, 0, 0, 0, 0, 0, 0, 0, 0, 0, 0, 0, 0, 1, 0,\n",
       "         0, 0, 0, 0, 0, 0, 1, 0, 0, 0, 0, 0, 0, 0, 0, 1, 0, 0, 0, 1, 0, 0,\n",
       "         0, 1, 1, 0, 0, 0, 0, 0, 0, 0, 0, 0, 0, 0, 0, 0, 0, 0, 0, 0, 0, 0,\n",
       "         0, 0, 0, 1, 0, 0, 0, 0, 0, 0, 0, 0, 0, 0, 0, 0, 0, 0, 0, 0, 0, 0,\n",
       "         0, 0, 0, 1, 0, 0, 1, 0, 0, 0, 1, 0, 0, 0, 0, 0, 0, 0, 0, 0, 1, 0,\n",
       "         0, 0, 0, 0, 0, 0, 0, 0, 0, 0, 0, 0, 0, 0, 0, 0, 0, 1, 0, 0, 0, 0,\n",
       "         0, 0, 0, 0, 0, 0, 0, 0, 0, 0, 0, 0, 0, 0, 0, 1, 0, 0, 0, 0, 0, 0,\n",
       "         0, 0, 0, 0, 0, 0, 0, 0, 0, 1, 0, 0, 0, 0, 0, 0, 0, 0, 0, 0, 0, 0,\n",
       "         0, 0, 0, 0, 0, 0, 0, 0, 0, 0, 0, 0, 0, 0, 0, 1, 0, 0, 0, 1, 0, 0,\n",
       "         0, 0, 1, 0, 0, 0, 0, 0, 1, 0, 0, 0, 0, 0, 0, 0, 0, 0, 0, 0, 0, 0,\n",
       "         1, 0, 0, 0, 0, 0, 0, 0, 0, 0, 0, 0, 0, 0, 0, 0, 0, 0, 0, 0, 0, 0,\n",
       "         0, 0, 0, 0, 0, 0, 0, 0, 0, 0, 0, 0, 0, 0, 0, 0, 0, 0, 0, 0, 0, 1,\n",
       "         0, 0, 0, 0, 0, 0, 0, 0, 0, 0, 0, 0, 0, 0, 0, 0, 0, 0, 0, 0, 0, 0,\n",
       "         0, 0, 0, 0, 0, 0, 0, 0, 0, 0, 0, 1, 0, 0, 0, 0, 0, 0, 0, 1, 0, 0,\n",
       "         0, 0, 0, 1, 0, 0, 0, 0, 1, 0, 0, 0, 1, 0, 0, 0, 0, 0, 0, 0, 0, 0,\n",
       "         0, 0, 0, 1, 0, 1, 1, 1, 0, 0, 0, 0, 0, 0, 0, 1, 1, 0, 0, 0, 0, 0,\n",
       "         0, 0, 0, 0, 0, 0, 0, 0, 0, 0, 0, 0, 0, 0, 0, 0, 0, 0, 0, 0, 0, 0,\n",
       "         0, 0, 0, 0, 0, 1, 0, 1, 0, 0, 0, 1, 0, 1, 0, 0, 0, 1, 0, 0, 0, 0,\n",
       "         0, 0, 0, 0, 0, 0, 0, 1, 0, 0, 0, 1, 0, 0, 0, 0, 0, 0, 0, 0, 0, 0,\n",
       "         0, 0, 0, 0, 0, 0, 0, 0, 0, 0, 0, 0, 0, 0, 0, 0, 0, 0, 1, 0, 0, 0,\n",
       "         0, 0, 0, 0, 0, 0, 0, 1, 0, 0, 0, 0, 0, 0, 0, 0, 0, 0, 0, 0, 0, 0,\n",
       "         0, 0, 0, 0, 0, 0, 0, 0, 0, 0, 0, 0, 0, 1, 0, 1, 0, 0, 0, 0, 0, 0,\n",
       "         0, 0, 0, 0, 0, 0, 1, 0, 1, 0, 0, 0, 0, 1, 0, 0, 0, 0, 0, 0, 0, 0,\n",
       "         0, 0, 0, 1, 1, 0, 0, 0, 0, 0, 0, 0, 0, 0, 0, 0, 0, 0, 0, 0, 0, 0,\n",
       "         0, 0, 0, 0, 0, 0, 0, 0, 0, 0, 0, 1, 0, 0, 0, 0, 0, 0, 0, 0, 0, 1,\n",
       "         0, 0, 0, 0, 0, 1, 0, 0, 0, 0, 0, 0, 0, 0, 0, 0, 0, 0, 0, 0, 0, 1,\n",
       "         0, 0, 0, 1, 0, 0, 0, 1, 1, 0, 0, 0, 0, 0, 1, 0, 0, 0, 0, 0, 0, 0,\n",
       "         1, 0, 0, 0, 1, 0, 0, 0, 0, 0, 0, 0, 0, 0, 0, 0, 0, 0, 0, 0, 0, 0,\n",
       "         0, 0, 0, 0, 0, 0, 0, 0, 0, 0, 0, 0, 0, 0, 0, 0, 0, 1, 0, 0, 0, 0,\n",
       "         0, 0, 0, 0, 1, 0, 0, 0, 0, 0, 0, 0, 0, 1, 0, 0, 0, 0, 1, 0, 0, 0,\n",
       "         0, 0, 0, 1, 0, 0, 0, 0, 0, 0, 0, 0, 0, 0, 0, 0, 0, 0, 0, 0, 0, 0,\n",
       "         0, 0, 0, 0, 0, 0, 0, 1, 0, 0, 0, 0, 1, 1, 0, 0, 1, 1, 0, 0, 0, 0,\n",
       "         0, 0, 0, 0, 0, 0, 0, 0, 0, 0, 1, 0, 0, 1, 0, 0, 0, 0, 0, 0, 0, 1,\n",
       "         0, 0, 0, 0, 0, 0, 0, 0, 0, 0, 0, 0, 0, 0, 0, 0, 0, 0, 0, 0, 0, 0,\n",
       "         0, 0, 0, 0, 0, 0, 0, 0, 0, 0, 0, 0, 0, 0, 0, 0, 0, 0, 0, 0, 0, 0,\n",
       "         0, 0, 0, 0, 0, 0, 0, 0, 0, 0])},\n",
       " 'meta': {'name': 'IForest',\n",
       "  'detector_type': 'offline',\n",
       "  'data_type': 'tabular',\n",
       "  'version': '0.7.3dev'}}"
      ]
     },
     "execution_count": 20,
     "metadata": {},
     "output_type": "execute_result"
    }
   ],
   "source": [
    "od_preds"
   ]
  },
  {
   "cell_type": "code",
   "execution_count": 19,
   "metadata": {},
   "outputs": [
    {
     "name": "stdout",
     "output_type": "stream",
     "text": [
      "F1 score: 0.3279\n"
     ]
    },
    {
     "data": {
      "image/png": "[encoded data removed]",
      "text/plain": [
       "<Figure size 432x288 with 2 Axes>"
      ]
     },
     "metadata": {
      "needs_background": "light"
     },
     "output_type": "display_data"
    }
   ],
   "source": [
    "labels = outlier_batch.target_names\n",
    "y_pred = od_preds['data']['is_outlier']\n",
    "f1 = f1_score(y_outlier, y_pred)\n",
    "print('F1 score: {:.4f}'.format(f1))\n",
    "cm = confusion_matrix(y_outlier, y_pred)\n",
    "df_cm = pd.DataFrame(cm, index=labels, columns=labels)\n",
    "sns.heatmap(df_cm, annot=True, cbar=True, linewidths=.5)\n",
    "plt.show()"
   ]
  },
  {
   "cell_type": "markdown",
   "metadata": {},
   "source": [
    "Plot instance level outlier scores vs. the outlier threshold:"
   ]
  },
  {
   "cell_type": "code",
   "execution_count": 15,
   "metadata": {},
   "outputs": [
    {
     "data": {
      "image/png": "[encoded data removed]",
      "text/plain": [
       "<Figure size 432x288 with 1 Axes>"
      ]
     },
     "metadata": {
      "needs_background": "light"
     },
     "output_type": "display_data"
    }
   ],
   "source": [
    "plot_instance_score(od_preds, y_outlier, labels, od.threshold)"
   ]
  },
  {
   "cell_type": "markdown",
   "metadata": {},
   "source": [
    "We can see that the isolation forest does not do a good job at detecting 1 type of outliers with an outlier score around 0. This makes inferring a good threshold without explicit knowledge about the outliers hard. Setting the threshold just below 0 would lead to significantly better detector performance for the outliers in the dataset. This is also reflected by the ROC curve:"
   ]
  },
  {
   "cell_type": "code",
   "execution_count": null,
   "metadata": {},
   "outputs": [],
   "source": []
  }
 ],
 "metadata": {
  "kernelspec": {
   "display_name": "Python 3 (ipykernel)",
   "language": "python",
   "name": "python3"
  },
  "language_info": {
   "codemirror_mode": {
    "name": "ipython",
    "version": 3
   },
   "file_extension": ".py",
   "mimetype": "text/x-python",
   "name": "python",
   "nbconvert_exporter": "python",
   "pygments_lexer": "ipython3",
   "version": "3.7.11"
  }
 },
 "nbformat": 4,
 "nbformat_minor": 4
}
